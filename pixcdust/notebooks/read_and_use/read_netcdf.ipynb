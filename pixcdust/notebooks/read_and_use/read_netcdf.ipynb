{
 "cells": [
  {
   "cell_type": "markdown",
   "metadata": {},
   "source": [
    "# Simply read a single PixC netcdf\n"
   ]
  },
  {
   "cell_type": "code",
   "execution_count": null,
   "metadata": {},
   "outputs": [],
   "source": [
    "path = \"/tmp/pixc/SWOT_L2_HR_PIXC_011_148_098R_20240220T032331_20240220T032342_PIC0_01.nc\"\n",
    "ncsimple = PixCNcSimpleReader(path, ['height', 'sig0'])\n",
    "\n",
    "            # computing layer_name\n",
    "            _, dt_time_start, cycle_number, pass_number, tile_number = (\n",
    "                ncsimple.extract_info_from_nc_attrs(path)\n",
    "            )\n",
    "            time_start = dt_time_start.strftime('%Y%m%d')\n",
    "\n",
    "            layer_name = f\"{cycle_number}_{pass_number}_\\\n",
    "{tile_number}_{time_start}\"\n",
    "\n",
    "            # cheking if output file and layer already exist\n",
    "            if os.path.exists(self.path_out) and self.mode == \"w\":\n",
    "                if layer_name in fiona.listlayers(self.path_out):\n",
    "                    tqdm.write(\n",
    "                        f\"skipping layer {layer_name} \\\n",
    "                            (already in geopackage {self.path_out})\"\n",
    "                    )\n",
    "                    continue\n",
    "            # converting data from xarray to geodataframe\n",
    "            ncsimple.open_dataset()"
   ]
  }
 ],
 "metadata": {
  "kernelspec": {
   "display_name": ".venv",
   "language": "python",
   "name": "python3"
  },
  "language_info": {
   "codemirror_mode": {
    "name": "ipython",
    "version": 3
   },
   "file_extension": ".py",
   "mimetype": "text/x-python",
   "name": "python",
   "nbconvert_exporter": "python",
   "pygments_lexer": "ipython3",
   "version": "3.10.12"
  }
 },
 "nbformat": 4,
 "nbformat_minor": 2
}
