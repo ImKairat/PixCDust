{
 "cells": [
  {
   "cell_type": "markdown",
   "metadata": {},
   "source": [
    "# Download SWOT Pixel Cloud products from hydroweb.next and extract information of interest for your study in a Zarr (zcollection) Database for future use\n"
   ]
  },
  {
   "cell_type": "markdown",
   "metadata": {},
   "source": [
    "## Setting the spatial zone and the time period of interest\n",
    "Using a geopackage layer, preliminary created with, e.g. QGIS, to limit data download and database"
   ]
  },
  {
   "cell_type": "code",
   "execution_count": null,
   "metadata": {},
   "outputs": [],
   "source": [
    "from pixcdust.downloaders.hydroweb_next import PixCDownloader\n",
    "import geopandas as gpd\n",
    "from datetime import datetime"
   ]
  },
  {
   "cell_type": "code",
   "execution_count": null,
   "metadata": {},
   "outputs": [],
   "source": [
    "# reading the area of interest polygon (could have been set)\n",
    "gdf_geom = gpd.read_file('/home/hysope2/STUDIES/SWOT_Panama/DATA/aoi.gpkg')\n",
    "geom = gpd.array.to_wkt(gdf_geom.geometry.values)[0]\n",
    "\n",
    "# Limiting time period\n",
    "dates = (\n",
    "    datetime(2023,4,6),\n",
    "    datetime(2023,4,8),\n",
    ")\n"
   ]
  },
  {
   "cell_type": "markdown",
   "metadata": {},
   "source": [
    "## Let's download matching data.\n",
    "This will unfortunately lead to downloading many big files (that will be removed later). This is the only way right, but the hydroweb.next team is working on improving that."
   ]
  },
  {
   "cell_type": "code",
   "execution_count": null,
   "metadata": {},
   "outputs": [],
   "source": [
    "pixcdownloader = PixCDownloader(\n",
    "    geom,\n",
    "    dates,\n",
    "    verbose=0,\n",
    "    path_download='/tmp/pixc',\n",
    "    )\n",
    "pixcdownloader.download()"
   ]
  },
  {
   "cell_type": "markdown",
   "metadata": {},
   "source": [
    "## Now we have all necessary files, let us extract key variables within area of interest in a Zarr (zcollection) database.\n",
    "This Zarr partionned format is very efficient for time analysis, but is not currently accessible in GIS softwares such as QGIS\n",
    "We are using the same geodataframe to limit the data to the area of interest"
   ]
  },
  {
   "cell_type": "code",
   "execution_count": null,
   "metadata": {},
   "outputs": [],
   "source": [
    "from pixcdust.converters.zarr import PixCNc2ZarrConverter\n",
    "from glob import glob"
   ]
  },
  {
   "cell_type": "code",
   "execution_count": null,
   "metadata": {},
   "outputs": [],
   "source": [
    "# nb: it is important to provide files in a time strictly ascending or descending order, use the sorted function for this\n",
    "pixc = PixCNc2ZarrConverter(\n",
    "            sorted(glob(pixcdownloader.path_download+'/*/*nc')),\n",
    "            \"/tmp/my_awesome_pixc_zarr\",\n",
    "            variables=['height', 'sig0', 'classification'],\n",
    "            area_of_interest=gdf_geom,\n",
    "            mode='o',\n",
    "        )\n",
    "pixc.database_from_nc()"
   ]
  },
  {
   "cell_type": "markdown",
   "metadata": {},
   "source": [
    "database has been succesfully created, we can remove the raw files"
   ]
  },
  {
   "cell_type": "code",
   "execution_count": null,
   "metadata": {},
   "outputs": [],
   "source": [
    "import shutil\n",
    "shutil.rmtree('/tmp/pixc')"
   ]
  },
  {
   "cell_type": "markdown",
   "metadata": {},
   "source": [
    "# Let us use our Zarr Database\n",
    "previous steps are not necessary\n",
    "\n",
    "Now we can open this database in a xarray, or dataframe, or GeoDataFrame"
   ]
  },
  {
   "cell_type": "code",
   "execution_count": null,
   "metadata": {},
   "outputs": [],
   "source": [
    "from pixcdust.readers.zarr import PixCZarrReader\n",
    "import datetime\n",
    "\n",
    "pixc_read = PixCZarrReader(\n",
    "    \"/tmp/my_awesome_pixc_zarr\"\n",
    ")\n",
    "pixc_read.read((datetime.datetime(2023,4,10), datetime.datetime(2023,4,12)))\n",
    "pixc_read.data"
   ]
  },
  {
   "cell_type": "code",
   "execution_count": null,
   "metadata": {},
   "outputs": [],
   "source": [
    "gdf_pixc = pixc_read.to_geodataframe()\n",
    "gdf_pixc"
   ]
  },
  {
   "cell_type": "markdown",
   "metadata": {},
   "source": [
    "Enjoy!"
   ]
  }
 ],
 "metadata": {
  "kernelspec": {
   "display_name": ".venv",
   "language": "python",
   "name": "python3"
  },
  "language_info": {
   "codemirror_mode": {
    "name": "ipython",
    "version": 3
   },
   "file_extension": ".py",
   "mimetype": "text/x-python",
   "name": "python",
   "nbconvert_exporter": "python",
   "pygments_lexer": "ipython3",
   "version": "3.10.12"
  }
 },
 "nbformat": 4,
 "nbformat_minor": 2
}
