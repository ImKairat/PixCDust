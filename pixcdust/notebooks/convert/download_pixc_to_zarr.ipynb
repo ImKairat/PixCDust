{
 "cells": [
  {
   "cell_type": "markdown",
   "metadata": {},
   "source": [
    "# Download SWOT Pixel Cloud products from hydroweb.next and extract information of interest for your study in a Zarr (zcollection) Database for future use\n"
   ]
  },
  {
   "cell_type": "markdown",
   "metadata": {},
   "source": [
    "## Setting the spatial zone and the time period of interest\n",
    "Using a geopackage layer, preliminary created with, e.g. QGIS, to limit data download and database"
   ]
  },
  {
   "cell_type": "code",
   "execution_count": 1,
   "metadata": {},
   "outputs": [
    {
     "name": "stderr",
     "output_type": "stream",
     "text": [
      "/home/hysope2/SRC/preprocess_swot_pixc/pixcdust/.venv/lib/python3.10/site-packages/tqdm/auto.py:21: TqdmWarning: IProgress not found. Please update jupyter and ipywidgets. See https://ipywidgets.readthedocs.io/en/stable/user_install.html\n",
      "  from .autonotebook import tqdm as notebook_tqdm\n"
     ]
    }
   ],
   "source": [
    "from pixcdust.downloaders.hydroweb_next import PixCDownloader\n",
    "import geopandas as gpd\n",
    "from datetime import datetime"
   ]
  },
  {
   "cell_type": "code",
   "execution_count": 2,
   "metadata": {},
   "outputs": [],
   "source": [
    "# reading the area of interest polygon (could have been set)\n",
    "gdf_geom = gpd.read_file('/home/hysope2/STUDIES/SWOT_Panama/DATA/aoi.gpkg')\n",
    "\n",
    "# Limiting time period\n",
    "dates = (\n",
    "    datetime(2023,4,6),\n",
    "    datetime(2023,4,8),\n",
    ")\n",
    "\n"
   ]
  },
  {
   "cell_type": "markdown",
   "metadata": {},
   "source": [
    "## Let's download matching data.\n",
    "This will unfortunately lead to downloading many big files (that will be removed later). This is the only way right, but the hydroweb.next team is working on improving that."
   ]
  },
  {
   "cell_type": "code",
   "execution_count": 3,
   "metadata": {},
   "outputs": [
    {
     "ename": "ValueError",
     "evalue": "Did not find collection_name in list of available collections in hydroweb_next.\nAvailable collections are: ['FLOODDAM_CERFACS_FLOOD_EXTENT', 'FLOODDAM_CERFACS_VELOCITY', 'FLOODDAM_CERFACS_WATER_DEPTH_RASTER', 'FLOODDAM_CERFACS_WATER_DEPTH_VECTOR', 'FLOODDAM_FLOODML_FLOOD_MAPPING', 'FLOODDAM_QUANTCUBE', 'GRS_L2A_S2', 'HYDROWEB_LAKES_OPE', 'HYDROWEB_LAKES_RESEARCH', 'HYDROWEB_RIVERS_OPE', 'HYDROWEB_RIVERS_RESEARCH', 'LIS_FSC_PREOP', 'LIS_SNT_YEARLY', 'SWOT_L1B_HR_SLC', 'SWOT_L1B_HR_SLC_SAMPLE_V1_2', 'SWOT_L2_HR_LAKEAVG', 'SWOT_L2_HR_LAKESP_OBS', 'SWOT_L2_HR_LAKESP_OBS_SAMPLE_V1_2', 'SWOT_L2_HR_LAKESP_PRIOR', 'SWOT_L2_HR_LAKESP_PRIOR_SAMPLE_V1_2', 'SWOT_L2_HR_LAKESP_UNASSIGNED', 'SWOT_L2_HR_LAKESP_UNASSIGNED_SAMPLE_V1_2', 'SWOT_L2_HR_PIXC', 'SWOT_L2_HR_PIXCVEC', 'SWOT_L2_HR_PIXCVEC_SAMPLE_V1_2', 'SWOT_L2_HR_PIXC_SAMPLE_V1_2', 'SWOT_L2_HR_RASTER_100M', 'SWOT_L2_HR_RASTER_100M_SAMPLE_V1_2', 'SWOT_L2_HR_RASTER_250M', 'SWOT_L2_HR_RASTER_250M_SAMPLE_V1_2', 'SWOT_L2_HR_RIVERAVG', 'SWOT_L2_HR_RIVERSP_NODE', 'SWOT_L2_HR_RIVERSP_NODE_SAMPLE_V1_2', 'SWOT_L2_HR_RIVERSP_REACH', 'SWOT_L2_HR_RIVERSP_REACH_SAMPLE_V1_2', 'SWOT_PRIOR_LAKE_DATABASE', 'SWOT_PRIOR_RIVER_DATABASE', 'SW_L2_S2_SINGLE', 'SW_L3_S2_MONTHLY', 'SW_L3_S2_YEARLY', 'WQ_L2B_S2']",
     "output_type": "error",
     "traceback": [
      "\u001b[0;31m---------------------------------------------------------------------------\u001b[0m",
      "\u001b[0;31mValueError\u001b[0m                                Traceback (most recent call last)",
      "Cell \u001b[0;32mIn[3], line 1\u001b[0m\n\u001b[0;32m----> 1\u001b[0m pixcdownloader \u001b[38;5;241m=\u001b[39m \u001b[43mDownloader\u001b[49m\u001b[43m(\u001b[49m\n\u001b[1;32m      2\u001b[0m \u001b[43m    \u001b[49m\u001b[38;5;124;43m'\u001b[39;49m\u001b[38;5;124;43mlkj\u001b[39;49m\u001b[38;5;124;43m'\u001b[39;49m\u001b[43m,\u001b[49m\n\u001b[1;32m      3\u001b[0m \u001b[43m    \u001b[49m\u001b[43mgdf_geom\u001b[49m\u001b[43m,\u001b[49m\n\u001b[1;32m      4\u001b[0m \u001b[43m    \u001b[49m\u001b[43mdates\u001b[49m\u001b[43m,\u001b[49m\n\u001b[1;32m      5\u001b[0m \u001b[43m    \u001b[49m\u001b[43mverbose\u001b[49m\u001b[38;5;241;43m=\u001b[39;49m\u001b[38;5;241;43m0\u001b[39;49m\u001b[43m,\u001b[49m\n\u001b[1;32m      6\u001b[0m \u001b[43m    \u001b[49m\u001b[43mpath_download\u001b[49m\u001b[38;5;241;43m=\u001b[39;49m\u001b[38;5;124;43m'\u001b[39;49m\u001b[38;5;124;43m/tmp/pixc\u001b[39;49m\u001b[38;5;124;43m'\u001b[39;49m\u001b[43m,\u001b[49m\n\u001b[1;32m      7\u001b[0m \u001b[43m    \u001b[49m\u001b[43m)\u001b[49m\n\u001b[1;32m      8\u001b[0m pixcdownloader\u001b[38;5;241m.\u001b[39msearch_download()\n",
      "File \u001b[0;32m~/SRC/preprocess_swot_pixc/pixcdust/pixcdust/downloaders/hydroweb_next.py:64\u001b[0m, in \u001b[0;36mDownloader.__init__\u001b[0;34m(self, collection_name, geometry, dates, path_download, verbose)\u001b[0m\n\u001b[1;32m     61\u001b[0m \u001b[38;5;28;01mif\u001b[39;00m \u001b[38;5;129;01mnot\u001b[39;00m os\u001b[38;5;241m.\u001b[39mpath\u001b[38;5;241m.\u001b[39misdir(\u001b[38;5;28mself\u001b[39m\u001b[38;5;241m.\u001b[39mpath_download):\n\u001b[1;32m     62\u001b[0m     os\u001b[38;5;241m.\u001b[39mmkdir(\u001b[38;5;28mself\u001b[39m\u001b[38;5;241m.\u001b[39mpath_download)\n\u001b[0;32m---> 64\u001b[0m \u001b[38;5;28;43mself\u001b[39;49m\u001b[38;5;241;43m.\u001b[39;49m\u001b[43m__check_collection_name\u001b[49m\u001b[43m(\u001b[49m\u001b[43m)\u001b[49m\n\u001b[1;32m     66\u001b[0m \u001b[38;5;66;03m# Default search criteria when iterating over collection pages\u001b[39;00m\n\u001b[1;32m     67\u001b[0m default_search_criteria \u001b[38;5;241m=\u001b[39m {\n\u001b[1;32m     68\u001b[0m     \u001b[38;5;124m\"\u001b[39m\u001b[38;5;124mitems_per_page\u001b[39m\u001b[38;5;124m\"\u001b[39m: \u001b[38;5;241m2000\u001b[39m,\n\u001b[1;32m     69\u001b[0m     \u001b[38;5;124m\"\u001b[39m\u001b[38;5;124mprovider\u001b[39m\u001b[38;5;124m\"\u001b[39m: \u001b[38;5;28mself\u001b[39m\u001b[38;5;241m.\u001b[39mPROVIDER,\n\u001b[1;32m     70\u001b[0m }\n",
      "File \u001b[0;32m~/SRC/preprocess_swot_pixc/pixcdust/pixcdust/downloaders/hydroweb_next.py:144\u001b[0m, in \u001b[0;36mDownloader.__check_collection_name\u001b[0;34m(self)\u001b[0m\n\u001b[1;32m    137\u001b[0m list_collections \u001b[38;5;241m=\u001b[39m [\n\u001b[1;32m    138\u001b[0m     d[\u001b[38;5;124m'\u001b[39m\u001b[38;5;124mID\u001b[39m\u001b[38;5;124m'\u001b[39m] \u001b[38;5;28;01mfor\u001b[39;00m d \u001b[38;5;129;01min\u001b[39;00m \u001b[38;5;28mself\u001b[39m\u001b[38;5;241m.\u001b[39mdag\u001b[38;5;241m.\u001b[39mlist_product_types(\n\u001b[1;32m    139\u001b[0m         provider\u001b[38;5;241m=\u001b[39m\u001b[38;5;28mself\u001b[39m\u001b[38;5;241m.\u001b[39mPROVIDER\n\u001b[1;32m    140\u001b[0m         )\n\u001b[1;32m    141\u001b[0m ]\n\u001b[1;32m    143\u001b[0m \u001b[38;5;28;01mif\u001b[39;00m \u001b[38;5;28mself\u001b[39m\u001b[38;5;241m.\u001b[39mcollection_name \u001b[38;5;129;01mnot\u001b[39;00m \u001b[38;5;129;01min\u001b[39;00m list_collections:\n\u001b[0;32m--> 144\u001b[0m     \u001b[38;5;28;01mraise\u001b[39;00m \u001b[38;5;167;01mValueError\u001b[39;00m((\n\u001b[1;32m    145\u001b[0m         \u001b[38;5;124m\"\u001b[39m\u001b[38;5;124mDid not find collection_name in \u001b[39m\u001b[38;5;124m\"\u001b[39m\n\u001b[1;32m    146\u001b[0m         \u001b[38;5;124mf\u001b[39m\u001b[38;5;124m\"\u001b[39m\u001b[38;5;124mlist of available collections in \u001b[39m\u001b[38;5;132;01m{\u001b[39;00m\u001b[38;5;28mself\u001b[39m\u001b[38;5;241m.\u001b[39mPROVIDER\u001b[38;5;132;01m}\u001b[39;00m\u001b[38;5;124m.\u001b[39m\u001b[38;5;124m\"\u001b[39m\n\u001b[1;32m    147\u001b[0m         \u001b[38;5;124mf\u001b[39m\u001b[38;5;124m\"\u001b[39m\u001b[38;5;130;01m\\n\u001b[39;00m\u001b[38;5;124mAvailable collections are: \u001b[39m\u001b[38;5;132;01m{\u001b[39;00mlist_collections\u001b[38;5;132;01m}\u001b[39;00m\u001b[38;5;124m\"\u001b[39m\n\u001b[1;32m    148\u001b[0m     ))\n",
      "\u001b[0;31mValueError\u001b[0m: Did not find collection_name in list of available collections in hydroweb_next.\nAvailable collections are: ['FLOODDAM_CERFACS_FLOOD_EXTENT', 'FLOODDAM_CERFACS_VELOCITY', 'FLOODDAM_CERFACS_WATER_DEPTH_RASTER', 'FLOODDAM_CERFACS_WATER_DEPTH_VECTOR', 'FLOODDAM_FLOODML_FLOOD_MAPPING', 'FLOODDAM_QUANTCUBE', 'GRS_L2A_S2', 'HYDROWEB_LAKES_OPE', 'HYDROWEB_LAKES_RESEARCH', 'HYDROWEB_RIVERS_OPE', 'HYDROWEB_RIVERS_RESEARCH', 'LIS_FSC_PREOP', 'LIS_SNT_YEARLY', 'SWOT_L1B_HR_SLC', 'SWOT_L1B_HR_SLC_SAMPLE_V1_2', 'SWOT_L2_HR_LAKEAVG', 'SWOT_L2_HR_LAKESP_OBS', 'SWOT_L2_HR_LAKESP_OBS_SAMPLE_V1_2', 'SWOT_L2_HR_LAKESP_PRIOR', 'SWOT_L2_HR_LAKESP_PRIOR_SAMPLE_V1_2', 'SWOT_L2_HR_LAKESP_UNASSIGNED', 'SWOT_L2_HR_LAKESP_UNASSIGNED_SAMPLE_V1_2', 'SWOT_L2_HR_PIXC', 'SWOT_L2_HR_PIXCVEC', 'SWOT_L2_HR_PIXCVEC_SAMPLE_V1_2', 'SWOT_L2_HR_PIXC_SAMPLE_V1_2', 'SWOT_L2_HR_RASTER_100M', 'SWOT_L2_HR_RASTER_100M_SAMPLE_V1_2', 'SWOT_L2_HR_RASTER_250M', 'SWOT_L2_HR_RASTER_250M_SAMPLE_V1_2', 'SWOT_L2_HR_RIVERAVG', 'SWOT_L2_HR_RIVERSP_NODE', 'SWOT_L2_HR_RIVERSP_NODE_SAMPLE_V1_2', 'SWOT_L2_HR_RIVERSP_REACH', 'SWOT_L2_HR_RIVERSP_REACH_SAMPLE_V1_2', 'SWOT_PRIOR_LAKE_DATABASE', 'SWOT_PRIOR_RIVER_DATABASE', 'SW_L2_S2_SINGLE', 'SW_L3_S2_MONTHLY', 'SW_L3_S2_YEARLY', 'WQ_L2B_S2']"
     ]
    }
   ],
   "source": [
    "pixcdownloader = PixCDownloader(\n",
    "    gdf_geom,\n",
    "    dates,\n",
    "    verbose=0,\n",
    "    path_download='/tmp/pixc',\n",
    "    )\n",
    "pixcdownloader.search_download()"
   ]
  },
  {
   "cell_type": "markdown",
   "metadata": {},
   "source": [
    "## Now we have all necessary files, let us extract key variables within area of interest in a Zarr (zcollection) database.\n",
    "This Zarr partionned format is very efficient for time analysis, but is not currently accessible in GIS softwares such as QGIS\n",
    "We are using the same geodataframe to limit the data to the area of interest"
   ]
  },
  {
   "cell_type": "code",
   "execution_count": null,
   "metadata": {},
   "outputs": [],
   "source": [
    "from pixcdust.converters.zarr import PixCNc2ZarrConverter\n",
    "from glob import glob"
   ]
  },
  {
   "cell_type": "code",
   "execution_count": null,
   "metadata": {},
   "outputs": [],
   "source": [
    "# nb: it is important to provide files in a time strictly ascending or descending order, use the sorted function for this\n",
    "pixc = PixCNc2ZarrConverter(\n",
    "            sorted(glob(pixcdownloader.path_download+'/*/*nc')),\n",
    "            \"/tmp/my_awesome_pixc_zarr\",\n",
    "            variables=['height', 'sig0', 'classification'],\n",
    "            area_of_interest=gdf_geom,\n",
    "            mode='o',\n",
    "        )\n",
    "pixc.database_from_nc()"
   ]
  },
  {
   "cell_type": "markdown",
   "metadata": {},
   "source": [
    "database has been succesfully created, we can remove the raw files"
   ]
  },
  {
   "cell_type": "code",
   "execution_count": null,
   "metadata": {},
   "outputs": [],
   "source": [
    "import shutil\n",
    "shutil.rmtree('/tmp/pixc')"
   ]
  },
  {
   "cell_type": "markdown",
   "metadata": {},
   "source": [
    "# Let us use our Zarr Database\n",
    "previous steps are not necessary\n",
    "\n",
    "Now we can open this database in a xarray, or dataframe, or GeoDataFrame"
   ]
  },
  {
   "cell_type": "code",
   "execution_count": null,
   "metadata": {},
   "outputs": [],
   "source": [
    "from pixcdust.readers.zarr import PixCZarrReader\n",
    "import datetime\n",
    "\n",
    "pixc_read = PixCZarrReader(\n",
    "    \"/tmp/my_awesome_pixc_zarr\"\n",
    ")\n",
    "pixc_read.read((datetime.datetime(2023,4,10), datetime.datetime(2023,4,12)))\n",
    "pixc_read.data"
   ]
  },
  {
   "cell_type": "code",
   "execution_count": null,
   "metadata": {},
   "outputs": [],
   "source": [
    "gdf_pixc = pixc_read.to_geodataframe()\n",
    "gdf_pixc"
   ]
  },
  {
   "cell_type": "markdown",
   "metadata": {},
   "source": [
    "Enjoy!"
   ]
  }
 ],
 "metadata": {
  "kernelspec": {
   "display_name": ".venv",
   "language": "python",
   "name": "python3"
  },
  "language_info": {
   "codemirror_mode": {
    "name": "ipython",
    "version": 3
   },
   "file_extension": ".py",
   "mimetype": "text/x-python",
   "name": "python",
   "nbconvert_exporter": "python",
   "pygments_lexer": "ipython3",
   "version": "3.10.12"
  }
 },
 "nbformat": 4,
 "nbformat_minor": 2
}
