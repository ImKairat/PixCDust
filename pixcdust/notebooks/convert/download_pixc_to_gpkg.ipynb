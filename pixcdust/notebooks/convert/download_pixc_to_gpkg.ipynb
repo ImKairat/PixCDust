{
 "cells": [
  {
   "cell_type": "markdown",
   "metadata": {},
   "source": [
    "# Download and convert to Geopackage\n",
    "\n",
    "This downloads SWOT Pixel Cloud products from hydroweb.next (API-Key necessary) based on a region and a period of interest.\n",
    "Then is extracts information contained in the area of interest for your study, stores everything in a Geopackage Database for future use.\n",
    "Geopackage is a convenient data storage format, based on SQL, and is compatible with QGIS.\n"
   ]
  },
  {
   "cell_type": "markdown",
   "metadata": {},
   "source": [
    "## Setting the region and period of interest\n",
    "Using a geopackage layer, preliminary created with, e.g. QGIS, to limit data download and database"
   ]
  },
  {
   "cell_type": "code",
   "execution_count": null,
   "metadata": {},
   "outputs": [],
   "source": [
    "from pixcdust.downloaders.hydroweb_next import PixCDownloader\n",
    "import geopandas as gpd\n",
    "from datetime import datetime"
   ]
  },
  {
   "cell_type": "code",
   "execution_count": null,
   "metadata": {},
   "outputs": [],
   "source": [
    "# reading the area of interest polygon (could have been set)\n",
    "gdf_geom = gpd.read_file('/home/hysope2/STUDIES/SWOT_Panama/DATA/aoi.gpkg')\n",
    "\n",
    "# Limiting time period\n",
    "dates = (\n",
    "    datetime(2023,4,6),\n",
    "    datetime(2023,4,8),\n",
    ")\n"
   ]
  },
  {
   "cell_type": "markdown",
   "metadata": {},
   "source": [
    "## Download\n",
    "This will unfortunately lead to downloading many big files (that will be removed later). This is the only way right now, but the hydroweb.next team is working on improving that."
   ]
  },
  {
   "cell_type": "code",
   "execution_count": null,
   "metadata": {},
   "outputs": [],
   "source": [
    "pixcdownloader = PixCDownloader(\n",
    "    gdf_geom,\n",
    "    dates,\n",
    "    verbose=0,\n",
    "    path_download='/tmp/pixc',\n",
    "    )\n",
    "pixcdownloader.search_download()"
   ]
  },
  {
   "cell_type": "markdown",
   "metadata": {},
   "source": [
    "## Extraction\n",
    "Now we have all necessary files, let us extract key variables within area of interest in a geopackage database.\n",
    "This geopackage format is quite efficient (though not the most efficient), and may easily be visualized in, e.g., QGIS\n",
    "We are using the same geodataframe to limit the data to the area of interest"
   ]
  },
  {
   "cell_type": "code",
   "execution_count": null,
   "metadata": {},
   "outputs": [],
   "source": [
    "from pixcdust.converters.gpkg import PixCNc2GpkgConverter\n",
    "from glob import glob"
   ]
  },
  {
   "cell_type": "code",
   "execution_count": null,
   "metadata": {},
   "outputs": [],
   "source": [
    "pixc = PixCNc2GpkgConverter(\n",
    "            sorted(glob(pixcdownloader.path_download+'/*/*nc')),\n",
    "            \"/tmp/my_awesome_pixc_gpkg.gkpkg\",\n",
    "            variables=['height', 'sig0', 'classification'],\n",
    "            area_of_interest=gdf_geom,\n",
    "            mode='o',\n",
    "        )\n",
    "pixc.database_from_nc()"
   ]
  },
  {
   "cell_type": "markdown",
   "metadata": {},
   "source": [
    "database has been succesfully created, we can remove the raw files"
   ]
  },
  {
   "cell_type": "code",
   "execution_count": null,
   "metadata": {},
   "outputs": [],
   "source": [
    "import shutil\n",
    "shutil.rmtree('/tmp/pixc')"
   ]
  },
  {
   "cell_type": "markdown",
   "metadata": {},
   "source": [
    "# Read the database\n",
    "previous steps are not necessary\n",
    "\n",
    "Now we can open this database in a GeoDataFrame, load it in, e.g., QGIS, etc."
   ]
  },
  {
   "cell_type": "code",
   "execution_count": null,
   "metadata": {},
   "outputs": [],
   "source": [
    "from pixcdust.readers.gpkg import PixCGpkgReader\n",
    "\n",
    "# nb: you may specify \n",
    "pixc_read = PixCGpkgReader(\n",
    "    \"/tmp/my_awesome_pixc_gpkg.gpkg\"\n",
    ")\n",
    "pixc_read.read()\n",
    "pixc_read.data"
   ]
  },
  {
   "cell_type": "markdown",
   "metadata": {},
   "source": [
    "Enjoy!"
   ]
  }
 ],
 "metadata": {
  "kernelspec": {
   "display_name": ".venv",
   "language": "python",
   "name": "python3"
  },
  "language_info": {
   "codemirror_mode": {
    "name": "ipython",
    "version": 3
   },
   "file_extension": ".py",
   "mimetype": "text/x-python",
   "name": "python",
   "nbconvert_exporter": "python",
   "pygments_lexer": "ipython3",
   "version": "3.10.12"
  }
 },
 "nbformat": 4,
 "nbformat_minor": 2
}
