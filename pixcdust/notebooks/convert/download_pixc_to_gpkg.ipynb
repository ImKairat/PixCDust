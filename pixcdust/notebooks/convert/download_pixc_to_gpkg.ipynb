{
 "cells": [
  {
   "cell_type": "markdown",
   "metadata": {},
   "source": [
    "# Download SWOT Pixel Cloud products from hydroweb.next and extract information of interest for your study in a Geopackage Database for future use\n"
   ]
  },
  {
   "cell_type": "markdown",
   "metadata": {},
   "source": [
    "## Setting the spatial zone and the time period of interest\n",
    "Using a geopackage layer, preliminary created with, e.g. QGIS, to limit data download and database"
   ]
  },
  {
   "cell_type": "code",
   "execution_count": 1,
   "metadata": {},
   "outputs": [
    {
     "name": "stderr",
     "output_type": "stream",
     "text": [
      "/home/hysope2/SRC/preprocess_swot_pixc/pixcdust/.venv/lib/python3.10/site-packages/tqdm/auto.py:21: TqdmWarning: IProgress not found. Please update jupyter and ipywidgets. See https://ipywidgets.readthedocs.io/en/stable/user_install.html\n",
      "  from .autonotebook import tqdm as notebook_tqdm\n"
     ]
    }
   ],
   "source": [
    "from pixcdust.downloaders.hydroweb_next import PixCDownloader\n",
    "import geopandas as gpd\n",
    "from datetime import datetime"
   ]
  },
  {
   "cell_type": "code",
   "execution_count": 2,
   "metadata": {},
   "outputs": [],
   "source": [
    "# reading the area of interest polygon (could have been set)\n",
    "gdf_geom = gpd.read_file('/home/hysope2/STUDIES/SWOT_Panama/DATA/aoi.gpkg')\n",
    "\n",
    "# Limiting time period\n",
    "dates = (\n",
    "    datetime(2023,4,6),\n",
    "    datetime(2023,4,8),\n",
    ")\n"
   ]
  },
  {
   "cell_type": "markdown",
   "metadata": {},
   "source": [
    "## Let's download matching data.\n",
    "This will unfortunately lead to downloading many big files (that will be removed later). This is the only way right, but the hydroweb.next team is working on improving that."
   ]
  },
  {
   "cell_type": "code",
   "execution_count": 3,
   "metadata": {},
   "outputs": [
    {
     "name": "stdout",
     "output_type": "stream",
     "text": [
      "                                              geometry  nodes_count\n",
      "0 0  POLYGON ((-79.78117 9.12454, -79.79207 9.12279...           27\n",
      "1 0  POLYGON ((-79.57742 8.95228, -79.57639 8.94354...           10\n"
     ]
    }
   ],
   "source": [
    "pixcdownloader = PixCDownloader(\n",
    "    gdf_geom,\n",
    "    dates,\n",
    "    verbose=0,\n",
    "    path_download='/tmp/pixc',\n",
    "    )\n",
    "pixcdownloader.search_download()"
   ]
  },
  {
   "cell_type": "markdown",
   "metadata": {},
   "source": [
    "## Now we have all necessary files, let us extract key variables within area of interest in a geopackage database.\n",
    "This geopackage format is quite efficient (though not the most efficient), and may easily be visualized in, e.g., QGIS\n",
    "We are using the same geodataframe to limit the data to the area of interest"
   ]
  },
  {
   "cell_type": "code",
   "execution_count": null,
   "metadata": {},
   "outputs": [],
   "source": [
    "from pixcdust.converters.gpkg import PixCNc2GpkgConverter\n",
    "from glob import glob"
   ]
  },
  {
   "cell_type": "code",
   "execution_count": null,
   "metadata": {},
   "outputs": [],
   "source": [
    "pixc = PixCNc2GpkgConverter(\n",
    "            sorted(glob(pixcdownloader.path_download+'/*/*nc')),\n",
    "            \"/tmp/my_awesome_pixc_gpkg.gkpkg\",\n",
    "            variables=['height', 'sig0', 'classification'],\n",
    "            area_of_interest=gdf_geom,\n",
    "            mode='o',\n",
    "        )\n",
    "pixc.database_from_nc()"
   ]
  },
  {
   "cell_type": "markdown",
   "metadata": {},
   "source": [
    "database has been succesfully created, we can remove the raw files"
   ]
  },
  {
   "cell_type": "code",
   "execution_count": null,
   "metadata": {},
   "outputs": [],
   "source": [
    "import shutil\n",
    "shutil.rmtree('/tmp/pixc')"
   ]
  },
  {
   "cell_type": "markdown",
   "metadata": {},
   "source": [
    "# Let us use our Geopackage Database\n",
    "previous steps are not necessary\n",
    "\n",
    "Now we can open this database in a GeoDataFrame, load it in, e.g., QGIS, etc."
   ]
  },
  {
   "cell_type": "code",
   "execution_count": null,
   "metadata": {},
   "outputs": [],
   "source": [
    "from pixcdust.readers.gpkg import PixCGpkgReader\n",
    "\n",
    "# nb: you may specify \n",
    "pixc_read = PixCGpkgReader(\n",
    "    \"/tmp/my_awesome_pixc_gpkg.gpkg\"\n",
    ")\n",
    "pixc_read.read()\n",
    "pixc_read.data"
   ]
  },
  {
   "cell_type": "markdown",
   "metadata": {},
   "source": [
    "Enjoy!"
   ]
  }
 ],
 "metadata": {
  "kernelspec": {
   "display_name": ".venv",
   "language": "python",
   "name": "python3"
  },
  "language_info": {
   "codemirror_mode": {
    "name": "ipython",
    "version": 3
   },
   "file_extension": ".py",
   "mimetype": "text/x-python",
   "name": "python",
   "nbconvert_exporter": "python",
   "pygments_lexer": "ipython3",
   "version": "3.10.12"
  }
 },
 "nbformat": 4,
 "nbformat_minor": 2
}
